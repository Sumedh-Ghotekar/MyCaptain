{
  "nbformat": 4,
  "nbformat_minor": 0,
  "metadata": {
    "colab": {
      "name": "mycap_ds",
      "provenance": [],
      "collapsed_sections": []
    },
    "kernelspec": {
      "name": "python3",
      "display_name": "Python 3"
    },
    "language_info": {
      "name": "python"
    }
  },
  "cells": [
    {
      "cell_type": "code",
      "execution_count": 9,
      "metadata": {
        "colab": {
          "base_uri": "https://localhost:8080/"
        },
        "id": "BZmlsHl-Wnv8",
        "outputId": "945168a3-5c8f-4488-e975-f63e9fdd1390"
      },
      "outputs": [
        {
          "output_type": "stream",
          "name": "stdout",
          "text": [
            "Enter the radius of the circle5\n",
            "The area of the circle is : 78.53981633974483\n"
          ]
        }
      ],
      "source": [
        "import math\n",
        "r=float(input(\"Enter the radius of the circle\"))\n",
        "a=math.pi*(r**2)\n",
        "print(\"The area of the circle is :\",a)"
      ]
    },
    {
      "cell_type": "code",
      "source": [
        "\n",
        "import os\n",
        "filename = input(\"Input the Filename: \")\n",
        "f_extns = filename.split(\".\")\n",
        "print (\"The extension of the file is : \",f_extns[-1])"
      ],
      "metadata": {
        "colab": {
          "base_uri": "https://localhost:8080/"
        },
        "id": "BF8UchqDf_vZ",
        "outputId": "0cd863ba-cd42-4bcf-c8da-7c8064c8d4ad"
      },
      "execution_count": 13,
      "outputs": [
        {
          "output_type": "stream",
          "name": "stdout",
          "text": [
            "Input the Filename: mnist.csv\n",
            "The extension of the file is :  csv\n"
          ]
        }
      ]
    }
  ]
}